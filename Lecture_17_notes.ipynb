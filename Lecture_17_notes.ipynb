{
 "cells": [
  {
   "cell_type": "code",
   "execution_count": null,
   "id": "acda2a26-fee7-4549-83c4-1ab3eed6ddaf",
   "metadata": {},
   "outputs": [],
   "source": [
    "import pandas as pd\n",
    "import numpy as np\n",
    "import matplotlib.pyplot as plt\n",
    "from sklearn import tree\n",
    "from sklearn.datasets import load_iris, make_moons\n",
    "from sklearn.model_selection import train_test_split\n",
    "from sklearn.metrics import accuracy_score\n",
    "from sklearn.tree import DecisionTreeClassifier, DecisionTreeRegressor\n",
    "from sklearn.ensemble import BaggingClassifier, RandomForestClassifier"
   ]
  },
  {
   "cell_type": "markdown",
   "id": "23948184-8a6a-4ab7-bb2e-4b8831c651cb",
   "metadata": {},
   "source": [
    "## Decision tree"
   ]
  },
  {
   "cell_type": "markdown",
   "id": "575c3ef7-47e1-4c4c-9454-473465395901",
   "metadata": {},
   "source": [
    "### Classification trees"
   ]
  },
  {
   "cell_type": "code",
   "execution_count": null,
   "id": "835ae1e1-ed3e-4c09-aace-bfd6114283b9",
   "metadata": {},
   "outputs": [],
   "source": [
    "iris = load_iris()\n",
    "X = iris.data[:, 2:] # petal length and width\n",
    "y = iris.target\n",
    "\n",
    "tree_clf = DecisionTreeClassifier(max_depth=2, random_state=4) # controlling the depth with max_depth\n",
    "tree_clf.fit(X, y)"
   ]
  },
  {
   "cell_type": "markdown",
   "id": "9e3223dd-bb9a-4bb8-b300-a0d3fab6848c",
   "metadata": {},
   "source": [
    "#### Tree visualization"
   ]
  },
  {
   "cell_type": "code",
   "execution_count": null,
   "id": "a5ec11f8-9d50-4a49-b93d-a969c580abc6",
   "metadata": {},
   "outputs": [],
   "source": [
    "tree.plot_tree(tree_clf)"
   ]
  },
  {
   "cell_type": "markdown",
   "id": "b78028e7-eb87-42b8-a6de-7696ac0817b0",
   "metadata": {
    "tags": []
   },
   "source": [
    "#### Feature importance"
   ]
  },
  {
   "cell_type": "code",
   "execution_count": null,
   "id": "0c9024e9-07bd-4c24-a06d-d8f2dee3f772",
   "metadata": {},
   "outputs": [],
   "source": [
    "tree_clf.feature_importances_"
   ]
  },
  {
   "cell_type": "markdown",
   "id": "c57f549d-e002-4e42-a964-7f4a9ab594c4",
   "metadata": {
    "tags": []
   },
   "source": [
    "#### Prediction"
   ]
  },
  {
   "cell_type": "code",
   "execution_count": null,
   "id": "68d9fceb-f50b-4395-84fb-1f15d759e3a0",
   "metadata": {},
   "outputs": [],
   "source": [
    "tree_clf.predict_proba([[5, 1.5]])"
   ]
  },
  {
   "cell_type": "code",
   "execution_count": null,
   "id": "7b27a41a-96b2-4e05-b780-17f384856eda",
   "metadata": {},
   "outputs": [],
   "source": [
    "tree_clf.predict([[5, 1.5]])"
   ]
  },
  {
   "cell_type": "markdown",
   "id": "a9cfb828-05fc-48bc-aef0-e7017a61bf83",
   "metadata": {},
   "source": [
    "### Regression trees"
   ]
  },
  {
   "cell_type": "code",
   "execution_count": null,
   "id": "2912016c-7e37-4729-9490-22802cde5404",
   "metadata": {},
   "outputs": [],
   "source": [
    "# random data generation\n",
    "rng = np.random.RandomState(1)\n",
    "X = np.sort(5 * rng.rand(80, 1), axis=0)\n",
    "y = np.sin(X).ravel()\n",
    "y[::5] += 3 * (0.5 - rng.rand(16))"
   ]
  },
  {
   "cell_type": "code",
   "execution_count": null,
   "id": "a86ba81a-ee80-4d6d-b517-8bc4e3f6e543",
   "metadata": {},
   "outputs": [],
   "source": [
    "# Fit regression model\n",
    "regr_1 = DecisionTreeRegressor(max_depth=2)\n",
    "regr_2 = DecisionTreeRegressor(max_depth=3)\n",
    "regr_3 = DecisionTreeRegressor(max_depth=4)\n",
    "regr_1.fit(X, y)\n",
    "regr_2.fit(X, y)\n",
    "regr_3.fit(X, y)\n",
    "\n",
    "# Predict\n",
    "X_test = np.arange(0.0, 5.0, 0.01)[:, np.newaxis]\n",
    "y_1 = regr_1.predict(X_test)\n",
    "y_2 = regr_2.predict(X_test)\n",
    "y_3 = regr_3.predict(X_test)"
   ]
  },
  {
   "cell_type": "code",
   "execution_count": null,
   "id": "2927278a-0f89-485d-af02-afffe2cba65e",
   "metadata": {},
   "outputs": [],
   "source": [
    "# Plot the results\n",
    "plt.figure()\n",
    "plt.scatter(X, y, s=20, edgecolor=\"black\", c=\"darkorange\", label=\"data\")\n",
    "plt.plot(X_test, y_1, color=\"cornflowerblue\", label=\"max_depth=2\", linewidth=2)\n",
    "plt.plot(X_test, y_2, color=\"yellowgreen\", label=\"max_depth=3\", linewidth=2)\n",
    "plt.plot(X_test, y_3, color=\"coral\", label=\"max_depth=4\", linewidth=2)\n",
    "plt.xlabel(\"data\")\n",
    "plt.ylabel(\"target\")\n",
    "plt.title(\"Decision Tree Regression\")\n",
    "plt.legend()\n",
    "plt.show()"
   ]
  },
  {
   "cell_type": "markdown",
   "id": "6904c4fa-a077-44aa-9366-3659b204c7e3",
   "metadata": {},
   "source": [
    "## Bagging "
   ]
  },
  {
   "cell_type": "code",
   "execution_count": null,
   "id": "c671a2f4-247a-46d3-9f8c-1c6c3d21d2cc",
   "metadata": {},
   "outputs": [],
   "source": [
    "# moons dataset\n",
    "X, y = make_moons(n_samples=500, noise=0.30, random_state=2)\n",
    "X_train, X_test, y_train, y_test = train_test_split(X, y, random_state=8)"
   ]
  },
  {
   "cell_type": "markdown",
   "id": "ecb08193-54e2-4020-a973-ad37499df668",
   "metadata": {},
   "source": [
    "#### bagging classifier"
   ]
  },
  {
   "cell_type": "code",
   "execution_count": null,
   "id": "5064f56f-bc23-4da6-8d6c-2636f8fedac4",
   "metadata": {},
   "outputs": [],
   "source": [
    "bag_clf = BaggingClassifier(DecisionTreeClassifier(), n_estimators=500,\n",
    "                            max_samples=100, bootstrap=True, random_state=4)\n",
    "bag_clf.fit(X_train, y_train)\n",
    "y_pred = bag_clf.predict(X_test)\n",
    "print(accuracy_score(y_test, y_pred))"
   ]
  },
  {
   "cell_type": "markdown",
   "id": "fdef1c4f-d000-4b4c-985a-9b347ffb70f8",
   "metadata": {},
   "source": [
    "#### single decision tree classifier "
   ]
  },
  {
   "cell_type": "code",
   "execution_count": null,
   "id": "73ce0b7e-2967-4671-a99c-6a7f5095966f",
   "metadata": {},
   "outputs": [],
   "source": [
    "tree_clf = DecisionTreeClassifier(random_state=42)\n",
    "tree_clf.fit(X_train, y_train)\n",
    "y_pred_tree = tree_clf.predict(X_test)\n",
    "print(accuracy_score(y_test, y_pred_tree))"
   ]
  },
  {
   "cell_type": "markdown",
   "id": "1dbe96da-405b-4bcb-9a69-eaafd9ebb52c",
   "metadata": {},
   "source": [
    "#### Out of bag"
   ]
  },
  {
   "cell_type": "code",
   "execution_count": null,
   "id": "ce70774f-3086-4bcf-806e-cf3f8cdb8ead",
   "metadata": {},
   "outputs": [],
   "source": [
    "bag_clf = BaggingClassifier(DecisionTreeClassifier(), n_estimators=500,\n",
    "                            bootstrap=True, oob_score=True, random_state=40)\n",
    "bag_clf.fit(X_train, y_train)\n",
    "bag_clf.oob_score_"
   ]
  },
  {
   "cell_type": "markdown",
   "id": "975d7819-b294-42c7-aedd-7dd7703a8793",
   "metadata": {
    "tags": []
   },
   "source": [
    "## Random Forests"
   ]
  },
  {
   "cell_type": "code",
   "execution_count": null,
   "id": "d38b3307-94f1-4c48-af35-c3c7b6af8eed",
   "metadata": {},
   "outputs": [],
   "source": [
    "rnd_clf = RandomForestClassifier(n_estimators=500, \n",
    "                                 max_leaf_nodes=16, random_state=7)\n",
    "rnd_clf.fit(X_train, y_train)\n",
    "\n",
    "y_pred_rf = rnd_clf.predict(X_test)\n",
    "print(accuracy_score(y_test, y_pred_rf))"
   ]
  },
  {
   "cell_type": "markdown",
   "id": "857e3522-2d87-4ce3-bba6-ce08debd633f",
   "metadata": {},
   "source": [
    "#### Feature Importance"
   ]
  },
  {
   "cell_type": "code",
   "execution_count": null,
   "id": "976d45c9-5ffe-44aa-a250-f490c9b03d70",
   "metadata": {},
   "outputs": [],
   "source": [
    "rnd_clf = RandomForestClassifier(n_estimators=500, random_state=99)\n",
    "rnd_clf.fit(iris[\"data\"], iris[\"target\"])\n",
    "for name, score in zip(iris[\"feature_names\"], rnd_clf.feature_importances_):\n",
    "    print(name, score)"
   ]
  },
  {
   "cell_type": "code",
   "execution_count": null,
   "id": "6cf1a0a5-e6b6-4a42-9bcb-851f7fcbff43",
   "metadata": {},
   "outputs": [],
   "source": [
    "rnd_clf.feature_importances_"
   ]
  },
  {
   "cell_type": "code",
   "execution_count": null,
   "id": "d86d1163-571a-40e3-8c38-9913732dd97d",
   "metadata": {},
   "outputs": [],
   "source": []
  }
 ],
 "metadata": {
  "kernelspec": {
   "display_name": "Python 3 (ipykernel)",
   "language": "python",
   "name": "python3"
  },
  "language_info": {
   "codemirror_mode": {
    "name": "ipython",
    "version": 3
   },
   "file_extension": ".py",
   "mimetype": "text/x-python",
   "name": "python",
   "nbconvert_exporter": "python",
   "pygments_lexer": "ipython3",
   "version": "3.8.16"
  }
 },
 "nbformat": 4,
 "nbformat_minor": 5
}
